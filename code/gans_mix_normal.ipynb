{
 "cells": [
  {
   "cell_type": "code",
   "execution_count": 1,
   "metadata": {
    "collapsed": true
   },
   "outputs": [],
   "source": [
    "import tensorflow as tf\n",
    "import numpy as np\n",
    "import matplotlib.pyplot as plt\n",
    "import seaborn as sns # for pretty plots\n",
    "from scipy.stats import norm\n"
   ]
  },
  {
   "cell_type": "code",
   "execution_count": 2,
   "metadata": {
    "collapsed": true
   },
   "outputs": [],
   "source": [
    "# Auxiliary functions:\n",
    "# plot decision surface\n",
    "\n",
    "def plot_fig(mu, sigma, r = 1000, M = 1000):\n",
    "    f,ax=plt.subplots(1)\n",
    "    # prior\n",
    "    xs=np.linspace(mu[0]-2,mu[1]+2,r)\n",
    "    zDist_pdf = zDist.pdf(xs)\n",
    "    ax.plot(xs, zDist_pdf, label = r'$p_{z}$')\n",
    "\n",
    "    # p_data\n",
    "    xDist_pdf = xDist.pdf(xs)\n",
    "    ax.plot(xs, xDist_pdf, label = r'$p_{data}$')\n",
    "    # distribution of the generator\n",
    "    g_par = sess.run(g_params)\n",
    "    g_mu = g_par[1]\n",
    "    g_sigma = g_par[0]\n",
    "    gs = norm.pdf(xs,loc=float(g_mu),scale=float(g_sigma))\n",
    "    ax.plot(xs, gs, label=r'$q_{\\theta}$')\n",
    "    # ylim, legend\n",
    "    np.max([zDist_pdf,xDist_pdf,gs])\n",
    "    ax.set_ylim(0,np.max([zDist_pdf,xDist_pdf,gs])+0.2)\n",
    "    plt.legend()\n",
    "\n",
    "\n",
    "def adam_optimizer(loss, var_list):\n",
    "    batch = tf.Variable(0)\n",
    "    learning_rate = tf.train.exponential_decay(\n",
    "        learning_rate = 0.001,\n",
    "        global_step = batch,\n",
    "        decay_steps = 250,\n",
    "        decay_rate = 0.95,\n",
    "        staircase=True\n",
    "    )\n",
    "    optimizer = tf.train.AdamOptimizer(learning_rate = learning_rate).minimize(loss,global_step=batch,var_list=var_list)\n",
    "    return optimizer\n"
   ]
  },
  {
   "cell_type": "code",
   "execution_count": 9,
   "metadata": {
    "collapsed": true
   },
   "outputs": [],
   "source": [
    "# Class mixture of two normals:\n",
    "\n",
    "class norm_mix(object):\n",
    "    def __init__(self, mu, sigma, p = 0.5):\n",
    "        self.mu = mu\n",
    "        self.sigma = sigma\n",
    "        self.p = p\n",
    "    def rvs(self, N):\n",
    "        N1 = int(N*self.p)\n",
    "        samples = np.concatenate([np.random.normal(self.mu[0], self.sigma[0], N1),np.random.normal(self.mu[1], self.sigma[1], N-N1)])\n",
    "        samples.sort()\n",
    "        return samples\n",
    "    def pdf(self, x):\n",
    "        mix_pdf = self.p* norm.pdf(x,loc=mu[0],scale=sigma[0])+(1-self.p)*norm.pdf(x,loc=mu[1],scale=sigma[1])\n",
    "        return mix_pdf\n"
   ]
  },
  {
   "cell_type": "code",
   "execution_count": 11,
   "metadata": {
    "collapsed": false
   },
   "outputs": [],
   "source": [
    "#Network hyperpar:\n",
    "seed = 42\n",
    "np.random.seed(seed)\n",
    "tf.set_random_seed(seed)\n",
    "\n",
    "mu = [1, 3]\n",
    "sigma=[0.3,0.3]\n",
    "\n",
    "xDist = norm_mix(mu, sigma)\n",
    "zDist = norm(0, 1)\n",
    "\n",
    "# Netork:\n",
    "hidden_size = 20\n",
    "\n",
    "# MLP - used for D_pre, D1, D2, G networks\n",
    "def linear(input, output_dim, scope=None, stddev=1.0):\n",
    "    norm = tf.random_normal_initializer(stddev=stddev)\n",
    "    const = tf.constant_initializer(0.0)\n",
    "    with tf.variable_scope(scope or 'linear'):\n",
    "        w = tf.get_variable('w', [input.get_shape()[1], output_dim], initializer=norm)\n",
    "        b = tf.get_variable('b', [output_dim], initializer=const)\n",
    "        return tf.matmul(input, w) + b\n",
    "\n",
    "#Generator mu+sigma*z\n",
    "def generator(input, h_dim):\n",
    "    h0 = linear(input, h_dim, 'g0')\n",
    "    return h0\n",
    "\n",
    "def discriminator(input, h_dim, minibatch_layer=False):\n",
    "    h0 = tf.nn.tanh(linear(input, h_dim * 2, 'd0'))\n",
    "    h1 = tf.nn.tanh(linear(h0, h_dim * 2, 'd1'))\n",
    "    # without the minibatch layer, the discriminator needs an additional layer\n",
    "    # to have enough capacity to separate the two distributions correctly\n",
    "    if minibatch_layer:\n",
    "        h2 = minibatch(h1)\n",
    "    else:\n",
    "        h2 = tf.nn.tanh(linear(h1, h_dim * 2, 'd2'))\n",
    "    h3 = tf.sigmoid(linear(h2, 1, 'd3'))\n",
    "    return h3\n",
    "\n",
    "def minibatch(input, num_kernels=5, kernel_dim=3):\n",
    "    x = linear(input, num_kernels * kernel_dim, scope='minibatch', stddev=0.02)\n",
    "    activation = tf.reshape(x, (-1, num_kernels, kernel_dim))\n",
    "    diffs = tf.expand_dims(activation, 3) - tf.expand_dims(tf.transpose(activation, [1, 2, 0]), 0)\n",
    "    abs_diffs = tf.reduce_sum(tf.abs(diffs), 2)\n",
    "    minibatch_features = tf.reduce_sum(tf.exp(-abs_diffs), 2)\n",
    "    return tf.concat([input, minibatch_features], 1)\n"
   ]
  },
  {
   "cell_type": "code",
   "execution_count": 12,
   "metadata": {
    "collapsed": true
   },
   "outputs": [],
   "source": [
    "#Pre-train Decision Surface (Discriminator??)\n",
    "with tf.variable_scope(\"D_pre\"):\n",
    "    input_node=tf.placeholder(tf.float32, shape=(None,1))\n",
    "    train_labels=tf.placeholder(tf.float32,shape=(None,1))\n",
    "    D = discriminator(input_node, hidden_size)\n",
    "    loss=tf.reduce_mean(tf.square(D-train_labels)) #Loss is difference bet. GAN output and Gauss Density!\n",
    "\n",
    "optimizer = adam_optimizer(loss, None)\n"
   ]
  },
  {
   "cell_type": "code",
   "execution_count": 13,
   "metadata": {
    "collapsed": false
   },
   "outputs": [
    {
     "ename": "NameError",
     "evalue": "name 'grad_optimizer' is not defined",
     "output_type": "error",
     "traceback": [
      "\u001b[0;31m---------------------------------------------------------------------------\u001b[0m",
      "\u001b[0;31mNameError\u001b[0m                                 Traceback (most recent call last)",
      "\u001b[0;32m<ipython-input-13-5675cfa78605>\u001b[0m in \u001b[0;36m<module>\u001b[0;34m()\u001b[0m\n\u001b[1;32m     30\u001b[0m \u001b[0;34m\u001b[0m\u001b[0m\n\u001b[1;32m     31\u001b[0m \u001b[0;31m# set up optimizer for G,D\u001b[0m\u001b[0;34m\u001b[0m\u001b[0;34m\u001b[0m\u001b[0m\n\u001b[0;32m---> 32\u001b[0;31m \u001b[0mopt_d\u001b[0m\u001b[0;34m=\u001b[0m\u001b[0mgrad_optimizer\u001b[0m\u001b[0;34m(\u001b[0m\u001b[0mobj_d\u001b[0m\u001b[0;34m,\u001b[0m \u001b[0md_params\u001b[0m\u001b[0;34m)\u001b[0m\u001b[0;34m\u001b[0m\u001b[0m\n\u001b[0m\u001b[1;32m     33\u001b[0m \u001b[0mopt_g\u001b[0m\u001b[0;34m=\u001b[0m\u001b[0mgrad_optimizer\u001b[0m\u001b[0;34m(\u001b[0m\u001b[0mobj_g\u001b[0m\u001b[0;34m,\u001b[0m \u001b[0mg_params\u001b[0m\u001b[0;34m)\u001b[0m \u001b[0;31m# maximize log(D(G(z)))\u001b[0m\u001b[0;34m\u001b[0m\u001b[0m\n\u001b[1;32m     34\u001b[0m \u001b[0;31m#opt_g=adam_optimizer(obj_g2, g_params) # maximize log(D(G(z)))\u001b[0m\u001b[0;34m\u001b[0m\u001b[0;34m\u001b[0m\u001b[0m\n",
      "\u001b[0;31mNameError\u001b[0m: name 'grad_optimizer' is not defined"
     ]
    }
   ],
   "source": [
    "# BUILD NET\n",
    "# Now to build the actual generative adversarial network\n",
    "\n",
    "##Neural Network for the generator:\n",
    "with tf.variable_scope(\"Gen\"):\n",
    "    z_node=tf.placeholder(tf.float32, shape=(None,1)) # M standard normals.\n",
    "    G=generator(z_node,1) # generate normal transformation of Z\n",
    "\n",
    "##Neural network for the Discriminator:\n",
    "\n",
    "with tf.variable_scope(\"Disc\") as scope:\n",
    "    # D(x)\n",
    "    x_node=tf.placeholder(tf.float32, shape=(None,1)) # input M normally distributed floats\n",
    "    D1=discriminator(x_node,hidden_size) # output likelihood of being normally distributed\n",
    "    # make a copy of D that uses the same variables, but takes in G as input\n",
    "    scope.reuse_variables()#Variables in scope D are reused.\n",
    "    D2=discriminator(G,hidden_size) #G is the output of a graph in a different scope.\n",
    "\n",
    "\n",
    "obj_d=tf.reduce_mean(-tf.log(D1)-tf.log(1-D2))\n",
    "#Loss function 1:\n",
    "obj_g=tf.reduce_mean(-tf.log(D2))\n",
    "#Loss function 2:\n",
    "#obj_g=tf.reduce_mean(-tf.log(D2/(1-D2)))\n",
    "# copy weights from pre-training over to new D network.\n",
    "d_pre_params = tf.get_collection(tf.GraphKeys.TRAINABLE_VARIABLES, scope='D_pre')\n",
    "d_params = tf.get_collection(tf.GraphKeys.TRAINABLE_VARIABLES, scope='Disc')\n",
    "g_params = tf.get_collection(tf.GraphKeys.TRAINABLE_VARIABLES, scope='Gen')\n"
   ]
  },
  {
   "cell_type": "code",
   "execution_count": 14,
   "metadata": {
    "collapsed": true
   },
   "outputs": [],
   "source": [
    "# set up optimizer for G,D\n",
    "opt_d=adam_optimizer(obj_d, d_params)\n",
    "opt_g=adam_optimizer(obj_g, g_params) # maximize log(D(G(z)))\n",
    "\n"
   ]
  },
  {
   "cell_type": "code",
   "execution_count": 16,
   "metadata": {
    "collapsed": false
   },
   "outputs": [],
   "source": [
    "sess=tf.InteractiveSession()\n",
    "tf.global_variables_initializer().run()\n",
    "\n",
    "\n",
    "# process multiple points in parallel in a minibatch\n",
    "M = 1000\n",
    "lh=np.zeros(1000)\n",
    "for i in range(1000):\n",
    "    #d=np.random.normal(mu,sigma,M)\n",
    "    d=np.reshape(xDist.rvs(M),(M,1)) # Uniform between [-5,5]\n",
    "    labels=np.reshape(xDist.pdf(d),(M,1))\n",
    "    lh[i],_=sess.run([loss,optimizer], {input_node: d, train_labels: labels})\n"
   ]
  },
  {
   "cell_type": "code",
   "execution_count": 17,
   "metadata": {
    "collapsed": false
   },
   "outputs": [
    {
     "name": "stdout",
     "output_type": "stream",
     "text": [
      "0.0 0.925666093826 5.55307626724\n",
      "0.1 0.866715312004 1.31690776348\n",
      "0.2 0.953601062298 1.10198998451\n",
      "0.3 0.956234931946 1.0993168354\n",
      "0.4 0.954862892628 1.10674107075\n",
      "0.5 0.957822144032 1.08734381199\n",
      "0.6 0.955410897732 1.08710753918\n",
      "0.7 0.957489192486 1.08717215061\n",
      "0.8 0.955987930298 1.10147321224\n",
      "0.9 0.955920636654 1.0935459137\n"
     ]
    },
    {
     "data": {
      "image/png": "[encoded data removed]",
      "text/plain": [
       "<matplotlib.figure.Figure at 0x111d97470>"
      ]
     },
     "metadata": {},
     "output_type": "display_data"
    }
   ],
   "source": [
    "# pre-training Parameters:\n",
    "weightsD = sess.run(d_pre_params)\n",
    "\n",
    "for i, v in enumerate(d_params):\n",
    "    sess.run(v.assign(weightsD[i]))\n",
    "\n",
    "k=1 #Times we train the discriminator for each run of the generator.\n",
    "M=1200\n",
    "TRAIN_ITERS = 12000\n",
    "histd, histg= np.zeros(TRAIN_ITERS), np.zeros(TRAIN_ITERS)\n",
    "#histd and histf save the history of the loss for the discriminator and the generator.\n",
    "for i in range(TRAIN_ITERS):\n",
    "    for j in range(k):\n",
    "        x=np.reshape(xDist.rvs(M),(M,1)) # sampled m-batch from p_data\n",
    "        z = np.reshape(zDist.rvs(M),(M,1)) # sampled m-batch from p_data\n",
    "        z.sort()\n",
    "        histd[i],_=sess.run([obj_d, opt_d], {x_node: x, z_node: z})\n",
    "    z = np.reshape(zDist.rvs(M),(M,1)) # sampled m-batch from p_data\n",
    "    z.sort()\n",
    "    histg[i],_=sess.run([obj_g,opt_g], {z_node: z}) # update generator\n",
    "    if i % (TRAIN_ITERS//10) == 0:\n",
    "        print(float(i)/float(TRAIN_ITERS), histd[i], histg[i])\n",
    "\n",
    "plot_fig(mu, sigma)\n",
    "plt.show()\n"
   ]
  },
  {
   "cell_type": "code",
   "execution_count": 18,
   "metadata": {
    "collapsed": false
   },
   "outputs": [
    {
     "data": {
      "image/png": "[encoded data removed]",
      "text/plain": [
       "<matplotlib.figure.Figure at 0x111f107b8>"
      ]
     },
     "metadata": {},
     "output_type": "display_data"
    }
   ],
   "source": [
    "plt.plot(range(TRAIN_ITERS),histd, label='obj_d')\n",
    "plt.plot(range(TRAIN_ITERS), 1-histg, label='obj_g')\n",
    "plt.legend()\n",
    "plt.show()\n"
   ]
  }
 ],
 "metadata": {
  "kernelspec": {
   "display_name": "Python 3",
   "language": "python",
   "name": "python3"
  },
  "language_info": {
   "codemirror_mode": {
    "name": "ipython",
    "version": 3
   },
   "file_extension": ".py",
   "mimetype": "text/x-python",
   "name": "python",
   "nbconvert_exporter": "python",
   "pygments_lexer": "ipython3",
   "version": "3.6.0"
  }
 },
 "nbformat": 4,
 "nbformat_minor": 2
}
